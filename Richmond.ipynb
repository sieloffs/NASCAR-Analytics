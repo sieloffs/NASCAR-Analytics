{
  "cells": [
    {
      "cell_type": "code",
      "execution_count": 2,
      "metadata": {
        "colab": {
          "base_uri": "https://localhost:8080/",
          "height": 347
        },
        "id": "eWJjVew9MxFg",
        "outputId": "84eafa74-87b3-4690-fe8f-16c1f6fab116"
      },
      "outputs": [
        {
          "data": {
            "text/html": [
              "<div>\n",
              "<style scoped>\n",
              "    .dataframe tbody tr th:only-of-type {\n",
              "        vertical-align: middle;\n",
              "    }\n",
              "\n",
              "    .dataframe tbody tr th {\n",
              "        vertical-align: top;\n",
              "    }\n",
              "\n",
              "    .dataframe thead th {\n",
              "        text-align: right;\n",
              "    }\n",
              "</style>\n",
              "<table border=\"1\" class=\"dataframe\">\n",
              "  <thead>\n",
              "    <tr style=\"text-align: right;\">\n",
              "      <th></th>\n",
              "      <th>driver_name</th>\n",
              "      <th>driver_id</th>\n",
              "      <th>manufacturer</th>\n",
              "      <th>car_number</th>\n",
              "      <th>lap_number</th>\n",
              "      <th>running_position</th>\n",
              "      <th>lap_speed</th>\n",
              "      <th>lap_time</th>\n",
              "      <th>team</th>\n",
              "      <th>playoffs</th>\n",
              "      <th>points_ineligible</th>\n",
              "      <th>starting_position</th>\n",
              "      <th>finish_position</th>\n",
              "      <th>statuses</th>\n",
              "    </tr>\n",
              "  </thead>\n",
              "  <tbody>\n",
              "    <tr>\n",
              "      <th>0</th>\n",
              "      <td>Bubba Wallace</td>\n",
              "      <td>4025</td>\n",
              "      <td>Tyt</td>\n",
              "      <td>23</td>\n",
              "      <td>81</td>\n",
              "      <td>1</td>\n",
              "      <td>117.591</td>\n",
              "      <td>22.961</td>\n",
              "      <td>23XI Racing</td>\n",
              "      <td>False</td>\n",
              "      <td>False</td>\n",
              "      <td>7</td>\n",
              "      <td>28</td>\n",
              "      <td>green</td>\n",
              "    </tr>\n",
              "    <tr>\n",
              "      <th>1</th>\n",
              "      <td>Austin Dillon</td>\n",
              "      <td>3873</td>\n",
              "      <td>Chv</td>\n",
              "      <td>3</td>\n",
              "      <td>242</td>\n",
              "      <td>1</td>\n",
              "      <td>117.488</td>\n",
              "      <td>22.981</td>\n",
              "      <td>Richard Childress Racing</td>\n",
              "      <td>False</td>\n",
              "      <td>False</td>\n",
              "      <td>11</td>\n",
              "      <td>1</td>\n",
              "      <td>green</td>\n",
              "    </tr>\n",
              "    <tr>\n",
              "      <th>2</th>\n",
              "      <td>Bubba Wallace</td>\n",
              "      <td>4025</td>\n",
              "      <td>Tyt</td>\n",
              "      <td>23</td>\n",
              "      <td>190</td>\n",
              "      <td>1</td>\n",
              "      <td>117.035</td>\n",
              "      <td>23.070</td>\n",
              "      <td>23XI Racing</td>\n",
              "      <td>False</td>\n",
              "      <td>False</td>\n",
              "      <td>7</td>\n",
              "      <td>28</td>\n",
              "      <td>green</td>\n",
              "    </tr>\n",
              "    <tr>\n",
              "      <th>3</th>\n",
              "      <td>Bubba Wallace</td>\n",
              "      <td>4025</td>\n",
              "      <td>Tyt</td>\n",
              "      <td>23</td>\n",
              "      <td>82</td>\n",
              "      <td>1</td>\n",
              "      <td>117.015</td>\n",
              "      <td>23.074</td>\n",
              "      <td>23XI Racing</td>\n",
              "      <td>False</td>\n",
              "      <td>False</td>\n",
              "      <td>7</td>\n",
              "      <td>28</td>\n",
              "      <td>green</td>\n",
              "    </tr>\n",
              "    <tr>\n",
              "      <th>4</th>\n",
              "      <td>Christopher Bell</td>\n",
              "      <td>4153</td>\n",
              "      <td>Tyt</td>\n",
              "      <td>20</td>\n",
              "      <td>81</td>\n",
              "      <td>2</td>\n",
              "      <td>116.949</td>\n",
              "      <td>23.087</td>\n",
              "      <td>Joe Gibbs Racing</td>\n",
              "      <td>False</td>\n",
              "      <td>False</td>\n",
              "      <td>8</td>\n",
              "      <td>21</td>\n",
              "      <td>green</td>\n",
              "    </tr>\n",
              "  </tbody>\n",
              "</table>\n",
              "</div>"
            ],
            "text/plain": [
              "        driver_name  driver_id manufacturer  car_number  lap_number  \\\n",
              "0     Bubba Wallace       4025          Tyt          23          81   \n",
              "1     Austin Dillon       3873          Chv           3         242   \n",
              "2     Bubba Wallace       4025          Tyt          23         190   \n",
              "3     Bubba Wallace       4025          Tyt          23          82   \n",
              "4  Christopher Bell       4153          Tyt          20          81   \n",
              "\n",
              "   running_position  lap_speed  lap_time                      team  playoffs  \\\n",
              "0                 1    117.591    22.961               23XI Racing     False   \n",
              "1                 1    117.488    22.981  Richard Childress Racing     False   \n",
              "2                 1    117.035    23.070               23XI Racing     False   \n",
              "3                 1    117.015    23.074               23XI Racing     False   \n",
              "4                 2    116.949    23.087          Joe Gibbs Racing     False   \n",
              "\n",
              "   points_ineligible  starting_position  finish_position statuses  \n",
              "0              False                  7               28    green  \n",
              "1              False                 11                1    green  \n",
              "2              False                  7               28    green  \n",
              "3              False                  7               28    green  \n",
              "4              False                  8               21    green  "
            ]
          },
          "execution_count": 2,
          "metadata": {},
          "output_type": "execute_result"
        }
      ],
      "source": [
        "import pandas as pd\n",
        "\n",
        "url = \"https://raw.githubusercontent.com/sieloffs/NASCAR-Analytics/refs/heads/main/laps.csv\"\n",
        "df = pd.read_csv(url)\n",
        "df.head()"
      ]
    },
    {
      "cell_type": "markdown",
      "metadata": {
        "id": "c96kPXYcYOmP"
      },
      "source": [
        "This is a simple example of taking the average green flag lap speed for Bubba Wallace"
      ]
    },
    {
      "cell_type": "code",
      "execution_count": 3,
      "metadata": {
        "colab": {
          "base_uri": "https://localhost:8080/"
        },
        "id": "2JO7qsPCNIa0",
        "outputId": "c48b53d9-e964-4557-deed-4fe11aa4ad99"
      },
      "outputs": [
        {
          "name": "stdout",
          "output_type": "stream",
          "text": [
            "Average Gren flag lap speed for Bubba Wallace was 108.76694626865671\n"
          ]
        }
      ],
      "source": [
        "Bubba = df[df['driver_name'] == \"Bubba Wallace\"]\n",
        "Bubba = Bubba[Bubba['statuses'] == 'green']\n",
        "Avg = Bubba['lap_speed'].mean()\n",
        "print(\"Average Gren flag lap speed for Bubba Wallace was \" + str(Avg))"
      ]
    },
    {
      "cell_type": "markdown",
      "metadata": {
        "id": "pOkLtjtYacbO"
      },
      "source": [
        "Visualize Bubba Wallace track postition by lap number"
      ]
    },
    {
      "cell_type": "code",
      "execution_count": 4,
      "metadata": {
        "colab": {
          "base_uri": "https://localhost:8080/",
          "height": 468
        },
        "id": "sG_lyCm9YTYJ",
        "outputId": "98d76f4b-825b-4358-cc49-72e854fcc133"
      },
      "outputs": [
        {
          "data": {
            "text/plain": [
              "<Axes: xlabel='lap_number', ylabel='running_position'>"
            ]
          },
          "execution_count": 4,
          "metadata": {},
          "output_type": "execute_result"
        },
        {
          "data": {
            "image/png": "[encoded data removed]",
            "text/plain": [
              "<Figure size 640x480 with 1 Axes>"
            ]
          },
          "metadata": {},
          "output_type": "display_data"
        }
      ],
      "source": [
        "import seaborn as sns\n",
        "sns.lineplot(data=df[df['driver_name']=='Bubba Wallace'], x='lap_number', y='running_position')"
      ]
    },
    {
      "cell_type": "code",
      "execution_count": 5,
      "metadata": {
        "id": "AwFFzBX8Y9z8"
      },
      "outputs": [
        {
          "name": "stdout",
          "output_type": "stream",
          "text": [
            "Test edit\n"
          ]
        }
      ],
      "source": [
        "print('Test edit')"
      ]
    },
    {
      "cell_type": "code",
      "execution_count": null,
      "metadata": {
        "id": "NUMT9OOcafbm"
      },
      "outputs": [],
      "source": []
    }
  ],
  "metadata": {
    "colab": {
      "authorship_tag": "ABX9TyN2R8WKb8MUb/ezlMpWPbnX",
      "provenance": []
    },
    "kernelspec": {
      "display_name": "Python 3",
      "name": "python3"
    },
    "language_info": {
      "codemirror_mode": {
        "name": "ipython",
        "version": 3
      },
      "file_extension": ".py",
      "mimetype": "text/x-python",
      "name": "python",
      "nbconvert_exporter": "python",
      "pygments_lexer": "ipython3",
      "version": "3.13.5"
    }
  },
  "nbformat": 4,
  "nbformat_minor": 0
}
