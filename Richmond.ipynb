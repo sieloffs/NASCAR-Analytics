{
  "nbformat": 4,
  "nbformat_minor": 0,
  "metadata": {
    "colab": {
      "provenance": [],
      "authorship_tag": "ABX9TyPoWqs2FXSBBZyJ0X7FfPO6"
    },
    "kernelspec": {
      "name": "python3",
      "display_name": "Python 3"
    },
    "language_info": {
      "name": "python"
    }
  },
  "cells": [
    {
      "cell_type": "code",
      "execution_count": 1,
      "metadata": {
        "id": "eWJjVew9MxFg",
        "outputId": "c19b0330-0b38-4f86-bfc4-ef6a029c4462",
        "colab": {
          "base_uri": "https://localhost:8080/"
        }
      },
      "outputs": [
        {
          "output_type": "stream",
          "name": "stdout",
          "text": [
            "Wow this works\n"
          ]
        }
      ],
      "source": [
        "print(\"Wow this works\")"
      ]
    },
    {
      "cell_type": "code",
      "source": [],
      "metadata": {
        "id": "2JO7qsPCNIa0"
      },
      "execution_count": null,
      "outputs": []
    }
  ]
}